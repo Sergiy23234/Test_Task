{
 "cells": [
  {
   "cell_type": "code",
   "execution_count": 8,
   "id": "613b2e6e",
   "metadata": {},
   "outputs": [],
   "source": [
    "import pandas as pd\n",
    "from sklearn.linear_model import LinearRegression\n",
    "from sklearn.model_selection import train_test_split"
   ]
  },
  {
   "cell_type": "code",
   "execution_count": 9,
   "id": "2bebfaa4",
   "metadata": {},
   "outputs": [
    {
     "name": "stdout",
     "output_type": "stream",
     "text": [
      "        0    1    2    3    4    5         6         7  8    9  ...  \\\n",
      "0     259  388  402  340  156  382  3.316625  0.218760  1  164  ...   \n",
      "1     441  192  381  421  452  123 -8.888194  0.700228  0  349  ...   \n",
      "2      83  129  107  156  247  191  2.645751  0.494556  1  297  ...   \n",
      "3     183  438  191  116  491  403 -6.164414  0.511117  0  272  ...   \n",
      "4     449  156  310  188  279  465  8.000000  0.756416  1   90  ...   \n",
      "...   ...  ...  ...  ...  ...  ...       ...       ... ..  ...  ...   \n",
      "9995  221  246  314  406  464  317  6.708204  0.436684  1  205  ...   \n",
      "9996  152  157   32  133  369  261  5.656854  0.986208  1  457  ...   \n",
      "9997  349  240  355   97   93  176  4.690416  0.830543  1  287  ...   \n",
      "9998  427   70   63  265   62  150  4.000000  0.502337  1  124  ...   \n",
      "9999  144  216   66  452  382  307  9.539392  0.986542  1   40  ...   \n",
      "\n",
      "             44         45         46         47         48         49  \\\n",
      "0     10.227235   0.889111   9.190222   4.670908   0.931525   7.634177   \n",
      "1      9.339161   4.221861   0.595563  13.865748   0.328453  11.507599   \n",
      "2     10.670237  10.350867   5.134417   5.898995   8.374986   4.638049   \n",
      "3     12.782579   0.513072   0.321295  11.334062  11.735511   1.911520   \n",
      "4      1.140498  14.165074   7.688796   5.079241   8.152186   1.680403   \n",
      "...         ...        ...        ...        ...        ...        ...   \n",
      "9995  12.306512   7.778209   5.698493  10.023215   4.959409   4.056025   \n",
      "9996  13.176561   6.697370   4.119232   2.190155  14.555999   7.786794   \n",
      "9997   0.941523   3.555292  12.572057   7.058367  12.999451   1.901825   \n",
      "9998   1.593796   9.902159   2.548667  11.339210  14.192310  14.142207   \n",
      "9999  14.724772   3.093617   3.681825  11.427112   5.748047   8.053866   \n",
      "\n",
      "             50         51         52     target  \n",
      "0      0.158196  13.432551   2.511191  48.296233  \n",
      "1      9.107966   1.302407  11.105604  51.372725  \n",
      "2      3.160023   2.243799   5.073030  50.129582  \n",
      "3      8.365676   4.877288  11.601819  49.118327  \n",
      "4     13.215111   5.823109   1.038015  49.679955  \n",
      "...         ...        ...        ...        ...  \n",
      "9995   4.642375   4.533745   6.754558  48.640320  \n",
      "9996   9.414130   5.413161   4.134093  51.093336  \n",
      "9997   5.100031   1.498432   8.093801  50.965461  \n",
      "9998   9.966924   8.538981   7.036367  50.291984  \n",
      "9999   0.729627   0.767049   9.541795  50.512527  \n",
      "\n",
      "[10000 rows x 54 columns]\n"
     ]
    }
   ],
   "source": [
    "data = pd.read_csv('internship_train.csv')\n",
    "data1 = pd.read_csv('internship_hidden_test.csv')\n",
    "y = data['target']\n",
    "X = data.drop('target', inplace=False, axis = 1)\n",
    "X_train, X_test, y_train, y_test = train_test_split(X, y, test_size=0.15, random_state=0)\n",
    "X.shape\n",
    "regression = LinearRegression()\n",
    "regression.fit(X_train, y_train)\n",
    "data1['target'] = regression.predict(data1)\n",
    "data1.to_csv('predictions.csv', index=False)\n",
    "print(data1)"
   ]
  },
  {
   "cell_type": "code",
   "execution_count": null,
   "id": "04ca8090",
   "metadata": {},
   "outputs": [],
   "source": []
  }
 ],
 "metadata": {
  "kernelspec": {
   "display_name": "Python 3 (ipykernel)",
   "language": "python",
   "name": "python3"
  },
  "language_info": {
   "codemirror_mode": {
    "name": "ipython",
    "version": 3
   },
   "file_extension": ".py",
   "mimetype": "text/x-python",
   "name": "python",
   "nbconvert_exporter": "python",
   "pygments_lexer": "ipython3",
   "version": "3.9.13"
  }
 },
 "nbformat": 4,
 "nbformat_minor": 5
}
