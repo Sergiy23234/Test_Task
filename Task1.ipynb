{
 "cells": [
  {
   "cell_type": "code",
   "execution_count": 1,
   "id": "ae518331",
   "metadata": {},
   "outputs": [
    {
     "name": "stdout",
     "output_type": "stream",
     "text": [
      "Enter the num5\n",
      "15\n",
      "Task completed\n",
      "Enter the num\n",
      "Finishing the program\n"
     ]
    }
   ],
   "source": [
    "import time\n",
    "def sum(i):\n",
    "    start = time.time()\n",
    "    res = 0\n",
    "    if 0 < i < 10 ** 25:\n",
    "        for n in range(0, i + 1):\n",
    "            res += n\n",
    "        print(res)\n",
    "        end = (time.time() - start)\n",
    "        if end < 0.1:\n",
    "            print(\"Task completed\")\n",
    "        else:\n",
    "            print(\"Fail\")\n",
    "    else:\n",
    "        print(\"Num is out of range\")\n",
    "exit = False\n",
    "while exit == False:\n",
    "    num = input(\"Enter the num\")\n",
    "    if num == '':\n",
    "        exit = True\n",
    "        print(\"Finishing the program\")\n",
    "    else:\n",
    "        sum(int(num))"
   ]
  },
  {
   "cell_type": "code",
   "execution_count": null,
   "id": "818ab047",
   "metadata": {},
   "outputs": [],
   "source": []
  }
 ],
 "metadata": {
  "kernelspec": {
   "display_name": "Python 3 (ipykernel)",
   "language": "python",
   "name": "python3"
  },
  "language_info": {
   "codemirror_mode": {
    "name": "ipython",
    "version": 3
   },
   "file_extension": ".py",
   "mimetype": "text/x-python",
   "name": "python",
   "nbconvert_exporter": "python",
   "pygments_lexer": "ipython3",
   "version": "3.9.13"
  }
 },
 "nbformat": 4,
 "nbformat_minor": 5
}
